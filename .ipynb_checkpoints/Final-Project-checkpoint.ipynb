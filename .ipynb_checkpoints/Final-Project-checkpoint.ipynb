{
 "metadata": {
  "name": ""
 },
 "nbformat": 3,
 "nbformat_minor": 0,
 "worksheets": [
  {
   "cells": [
    {
     "cell_type": "code",
     "collapsed": false,
     "input": [
      "\"\"\"\n",
      "The agent class used in auctions\n",
      "\"\"\"\n",
      "class agent():\n",
      "    bids = []\n",
      "    name = 'Unknown'\n",
      "    budget = 0\n",
      "    \n",
      "    def __init__(self, bids = [], name='Unknown',budget = 10):\n",
      "        self.bids = bids\n",
      "        self.name = name\n",
      "        self.budget = budget\n",
      "        \n",
      "    def __str__(self):\n",
      "        return self.name\n",
      "    \n",
      "    def __repr__(self):\n",
      "        return self.name\n",
      "    \n",
      "    def get_bid(self, auction_id):\n",
      "        return self.bids[auction_id]\n",
      "\n",
      "\"\"\"\n",
      "Runs the VCG auction mechanism on the inputs. Assumes only one item being auctioned \n",
      "off and thus only charges the winner of the auction.\n",
      "\n",
      "params: \n",
      "    agents - a list of agent objects participating in the auction\n",
      "    auction_id - which auction currently being decided\n",
      "    \n",
      "returns: \n",
      "    tuple (winner of the auction, list of agents and their payments)\n",
      "\"\"\"\n",
      "def vcg(agents, auction_id):\n",
      "    # get all (agent,bid)s for this auction\n",
      "    agent_bids = map(lambda a: (a,a.get_bid(auction_id)),agents)\n",
      "    # sort them by their bid in decreasing order\n",
      "    agent_bids = sorted(agent_bids, key=lambda x: x[1], reverse=True)\n",
      "    \n",
      "    result = []\n",
      "    for i,(a_bid) in enumerate(agent_bids):\n",
      "        if i==0:\n",
      "            result.append((a_bid[0],agent_bids[1][1]))\n",
      "        else:\n",
      "            result.append((a_bid[0],0))\n",
      "    return result\n"
     ],
     "language": "python",
     "metadata": {},
     "outputs": [],
     "prompt_number": 42
    },
    {
     "cell_type": "code",
     "collapsed": false,
     "input": [
      "a1 = agent(range(1,5), name='a1')\n",
      "a2 = agent(range(5,9), name='a2')\n",
      "a3 = agent(range(9,13), name='a3')\n",
      "a4 = agent(range(13,17), name='a4')\n",
      "As = [a1,a2,a3,a4]"
     ],
     "language": "python",
     "metadata": {},
     "outputs": [],
     "prompt_number": 43
    },
    {
     "cell_type": "code",
     "collapsed": false,
     "input": [
      "vcg(As, 2)"
     ],
     "language": "python",
     "metadata": {},
     "outputs": [
      {
       "ename": "ValueError",
       "evalue": "need more than 2 values to unpack",
       "output_type": "pyerr",
       "traceback": [
        "\u001b[0;31m---------------------------------------------------------------------------\u001b[0m\n\u001b[0;31mValueError\u001b[0m                                Traceback (most recent call last)",
        "\u001b[0;32m<ipython-input-44-4174488ebc10>\u001b[0m in \u001b[0;36m<module>\u001b[0;34m()\u001b[0m\n\u001b[0;32m----> 1\u001b[0;31m \u001b[0mvcg\u001b[0m\u001b[0;34m(\u001b[0m\u001b[0mAs\u001b[0m\u001b[0;34m,\u001b[0m \u001b[0;36m2\u001b[0m\u001b[0;34m)\u001b[0m\u001b[0;34m\u001b[0m\u001b[0m\n\u001b[0m",
        "\u001b[0;32m<ipython-input-42-9f41bb9a0167>\u001b[0m in \u001b[0;36mvcg\u001b[0;34m(agents, auction_id)\u001b[0m\n\u001b[1;32m     39\u001b[0m \u001b[0;34m\u001b[0m\u001b[0m\n\u001b[1;32m     40\u001b[0m     \u001b[0mresult\u001b[0m \u001b[0;34m=\u001b[0m \u001b[0;34m[\u001b[0m\u001b[0;34m]\u001b[0m\u001b[0;34m\u001b[0m\u001b[0m\n\u001b[0;32m---> 41\u001b[0;31m     \u001b[0;32mfor\u001b[0m \u001b[0mi\u001b[0m\u001b[0;34m,\u001b[0m\u001b[0ma\u001b[0m\u001b[0;34m,\u001b[0m\u001b[0mbid\u001b[0m \u001b[0;32min\u001b[0m \u001b[0menumerate\u001b[0m\u001b[0;34m(\u001b[0m\u001b[0magent_bids\u001b[0m\u001b[0;34m)\u001b[0m\u001b[0;34m:\u001b[0m\u001b[0;34m\u001b[0m\u001b[0m\n\u001b[0m\u001b[1;32m     42\u001b[0m         \u001b[0;32mif\u001b[0m \u001b[0mi\u001b[0m\u001b[0;34m==\u001b[0m\u001b[0;36m0\u001b[0m\u001b[0;34m:\u001b[0m\u001b[0;34m\u001b[0m\u001b[0m\n\u001b[1;32m     43\u001b[0m             \u001b[0mresult\u001b[0m\u001b[0;34m.\u001b[0m\u001b[0mappend\u001b[0m\u001b[0;34m(\u001b[0m\u001b[0;34m(\u001b[0m\u001b[0ma\u001b[0m\u001b[0;34m,\u001b[0m\u001b[0magent_bids\u001b[0m\u001b[0;34m[\u001b[0m\u001b[0;36m1\u001b[0m\u001b[0;34m]\u001b[0m\u001b[0;34m[\u001b[0m\u001b[0;36m1\u001b[0m\u001b[0;34m]\u001b[0m\u001b[0;34m)\u001b[0m\u001b[0;34m)\u001b[0m\u001b[0;34m\u001b[0m\u001b[0m\n",
        "\u001b[0;31mValueError\u001b[0m: need more than 2 values to unpack"
       ]
      }
     ],
     "prompt_number": 44
    },
    {
     "cell_type": "code",
     "collapsed": false,
     "input": [
      "print a1\n",
      "print (a1, a1.get_bid(1))"
     ],
     "language": "python",
     "metadata": {},
     "outputs": [
      {
       "output_type": "stream",
       "stream": "stdout",
       "text": [
        "a1\n",
        "(a1, 2)\n"
       ]
      }
     ],
     "prompt_number": 36
    },
    {
     "cell_type": "code",
     "collapsed": false,
     "input": [],
     "language": "python",
     "metadata": {},
     "outputs": []
    }
   ],
   "metadata": {}
  }
 ]
}