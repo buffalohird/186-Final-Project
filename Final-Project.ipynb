{
 "metadata": {
  "name": ""
 },
 "nbformat": 3,
 "nbformat_minor": 0,
 "worksheets": [
  {
   "cells": [
    {
     "cell_type": "code",
     "collapsed": false,
     "input": [
      "class Agent():\n",
      "    \"\"\"\n",
      "    The Agent class. This is the base class inherited by the agent classes for \n",
      "    auctions and matching allocations.\n",
      "    \"\"\"\n",
      "    name = 'Unknown'\n",
      "    \n",
      "    def __init__(self, name='UnknownAgent'):\n",
      "        self.name = name\n",
      "        \n",
      "    def __str__(self):\n",
      "        return self.name\n",
      "    \n",
      "    def __repr__(self):\n",
      "        return self.name\n",
      "\n"
     ],
     "language": "python",
     "metadata": {},
     "outputs": [],
     "prompt_number": 69
    },
    {
     "cell_type": "code",
     "collapsed": false,
     "input": [
      "class Auction_agent(Agent):\n",
      "    \"\"\"\n",
      "    The agent class used in auctions\n",
      "    \"\"\"\n",
      "    \n",
      "    bids = []\n",
      "    name = 'UnknownAuctionAgent'\n",
      "    budget = 0\n",
      "    \n",
      "    def __init__(self, bids = [], name='UnknownAuctionAgent',budget = 10):\n",
      "        self.bids = bids\n",
      "        self.name = name\n",
      "        self.budget = budget\n",
      "        \n",
      "    def __str__(self):\n",
      "        return self.name\n",
      "    \n",
      "    def __repr__(self):\n",
      "        return self.name\n",
      "    \n",
      "    def get_bid(self, auction_id):\n",
      "        return self.bids[auction_id]\n",
      "\n",
      "\n",
      "def vcg(agents, auction_id):\n",
      "    \"\"\"\n",
      "    Runs the an auction mechanism inspired by VCG on the inputs. Assumes only one item being auctioned \n",
      "    off. Assumes the item is not desirable so now the winner pays nothing, all others pay the second \n",
      "    price distributed evenly amongst bidders.\n",
      "    \n",
      "    params: \n",
      "        agents - a list of agent objects participating in the auction\n",
      "        auction_id - which auction currently being decided\n",
      "        \n",
      "    returns: \n",
      "        tuple (winner of the auction, list of agents and their payments)\n",
      "    \"\"\"\n",
      "    # get all (agent,bid)s for this auction\n",
      "    agent_bids = map(lambda a: (a,a.get_bid(auction_id)),agents)\n",
      "    # sort them by their bid in decreasing order\n",
      "    agent_bids = sorted(agent_bids, key=lambda x: x[1], reverse=True)\n",
      "    \n",
      "    result = []\n",
      "    for i,(a,bid) in enumerate(agent_bids):\n",
      "        if i==0:\n",
      "            result.append((a,0))\n",
      "        else:\n",
      "            result.append((a,-float(agent_bids[1][1])/float(len(agent_bids)-1)))\n",
      "    return result\n"
     ],
     "language": "python",
     "metadata": {},
     "outputs": [],
     "prompt_number": 73
    },
    {
     "cell_type": "code",
     "collapsed": false,
     "input": [
      "a1 = agent(range(1,5), name='a1')\n",
      "a2 = agent(range(5,9), name='a2')\n",
      "a3 = agent(range(9,13), name='a3')\n",
      "a4 = agent(range(13,17), name='a4')\n",
      "As = [a1,a2,a3,a4]"
     ],
     "language": "python",
     "metadata": {},
     "outputs": [],
     "prompt_number": 63
    },
    {
     "cell_type": "code",
     "collapsed": false,
     "input": [
      "vcg(As, 2)"
     ],
     "language": "python",
     "metadata": {},
     "outputs": [
      {
       "metadata": {},
       "output_type": "pyout",
       "prompt_number": 64,
       "text": [
        "[(a4, 0),\n",
        " (a3, -3.6666666666666665),\n",
        " (a2, -3.6666666666666665),\n",
        " (a1, -3.6666666666666665)]"
       ]
      }
     ],
     "prompt_number": 64
    },
    {
     "cell_type": "code",
     "collapsed": false,
     "input": [
      "a1 = agent([-2], name='a1')\n",
      "a2 = agent([-5], name='a2')\n",
      "a3 = agent([-8], name='a3')\n",
      "a4 = agent([-10], name='a4')\n",
      "As1 = [a1,a2,a3,a4]"
     ],
     "language": "python",
     "metadata": {},
     "outputs": [],
     "prompt_number": 65
    },
    {
     "cell_type": "code",
     "collapsed": false,
     "input": [
      "vcg(As1,0)"
     ],
     "language": "python",
     "metadata": {},
     "outputs": [
      {
       "metadata": {},
       "output_type": "pyout",
       "prompt_number": 66,
       "text": [
        "[(a1, 0),\n",
        " (a2, 1.6666666666666667),\n",
        " (a3, 1.6666666666666667),\n",
        " (a4, 1.6666666666666667)]"
       ]
      }
     ],
     "prompt_number": 66
    },
    {
     "cell_type": "markdown",
     "metadata": {},
     "source": [
      "We see here that a1 gets paid 5. But by whom? How can we adjust this to actually work in our context?\n",
      "Ideas:\n",
      "\n",
      "    1- Everyone pays a1 5 (either each or collectively) \n",
      "    2- It's actually an all-pay auction and a1 gets paid 5, everyone else pays their value not to do it\n",
      "    3- idk....\n",
      "    \n",
      "    4- IMPLEMENTED: everyone besides winner pays second price divided by number of payers. "
     ]
    },
    {
     "cell_type": "code",
     "collapsed": false,
     "input": [],
     "language": "python",
     "metadata": {},
     "outputs": [],
     "prompt_number": 66
    },
    {
     "cell_type": "code",
     "collapsed": false,
     "input": [],
     "language": "python",
     "metadata": {},
     "outputs": [],
     "prompt_number": 66
    },
    {
     "cell_type": "code",
     "collapsed": false,
     "input": [
      "class Task():\n",
      "    \"\"\"\n",
      "    The task class used as the thing people don't want to do/have. Created for the \n",
      "    housing allocation TTC type algorithm.\n",
      "    \"\"\"\n",
      "    name = 'UnknownTask'\n",
      "    agent_pref = []\n",
      "    \n",
      "    def __init__(self, name='UnknownTask', agent_pref=[]):\n",
      "        self.name = name\n",
      "        self.agent_pref = agent_pref\n",
      "        \n",
      "    def __str__(self):\n",
      "        return self.name\n",
      "    \n",
      "    def __repr__(self):\n",
      "        return self.name\n",
      "    \n",
      "    def set_pref(self,agent_pref):\n",
      "        self.agent_pref = agent_pref\n",
      "        return True\n",
      "    \n",
      "    def get_pref(self):\n",
      "        return self.agent_pref\n",
      "    \n",
      "    def remove_pref(self,a):\n",
      "        try:\n",
      "            self.agent_pref.remove(a)\n",
      "            return True\n",
      "        except ValueError:\n",
      "            return False\n",
      "    \n",
      "    def top_choice(self):\n",
      "        return self.agent_pref[0]\n",
      "    \n",
      "class Alloc_agent(Agent):\n",
      "    \"\"\"\n",
      "    The agent class used in the TTC housing allocation approach.\n",
      "    \"\"\"\n",
      "    \n",
      "    name = 'UnknownAllocAgent'\n",
      "    task_pref = []\n",
      "    \n",
      "    def __init__(self, name='UnknownAllocAgent', task_pref = []):\n",
      "        self.name = name\n",
      "        self.task_pref=task_pref \n",
      "        \n",
      "    def __str__(self):\n",
      "        return self.name\n",
      "    \n",
      "    def __repr__(self):\n",
      "        return self.name\n",
      "    \n",
      "    def top_choice(self):\n",
      "        return self.task_pref[0]\n",
      "    \n",
      "    def remove_pref(self,t):\n",
      "        try:\n",
      "            self.task_pref.remove(t)\n",
      "            return True\n",
      "        except ValueError:\n",
      "            return False\n",
      "        \n",
      "def find_cycle(node, seen_edges):\n",
      "    \"\"\"\n",
      "    Takes in an Alloc_Agent or Task and a list of seen edges and returns the cycle \n",
      "    that may be found by following the edge from that agent, giving agents the \n",
      "    task they each point to. \n",
      "    \"\"\"\n",
      "    node_edge_pair = (node,node.top_choice())\n",
      "    if node_edge_pair not in seen_edges:\n",
      "        seen_edges.append(node_edge_pair)\n",
      "        return find_cycle(node_edge_pair[1], seen_edges)\n",
      "    else:\n",
      "        seen_edges = seen_edges[seen_edges.index(node_edge_pair):]\n",
      "        if isinstance(seen_edges[0][0], Alloc_agent):\n",
      "            return seen_edges[::2]\n",
      "        else:\n",
      "            return seen_edges[1::2]\n",
      "    \n",
      "def TTC(agents, tasks):\n",
      "    \n",
      "    assignments = []\n",
      "    while (agents != [] and i < 20):\n",
      "        cycle = find_cycle(agents[0],[])\n",
      "        assignments += cycle\n",
      "        for agent,task in cycle:\n",
      "            agents.remove(agent)\n",
      "            for t in tasks:\n",
      "                t.remove_pref(agent)\n",
      "            for a in agents:\n",
      "                a.remove_pref(task)\n",
      "    \n",
      "    return assignments"
     ],
     "language": "python",
     "metadata": {},
     "outputs": [],
     "prompt_number": 142
    },
    {
     "cell_type": "code",
     "collapsed": false,
     "input": [
      "T1 = Task(name=\"task 1\")\n",
      "T2 = Task(name=\"task 2\")\n",
      "T3 = Task(name=\"task 3\")\n",
      "\n",
      "AA1 = Alloc_agent(name='Alloc Agent 1', task_pref = [T1, T2, T3])\n",
      "AA2 = Alloc_agent(name='Alloc Agent 2', task_pref = [T2, T3, T1])\n",
      "AA3 = Alloc_agent(name='Alloc Agent 3', task_pref = [T3, T1, T2])\n",
      "\n",
      "T1.set_pref([AA1, AA2, AA3])\n",
      "T2.set_pref([AA1, AA2, AA3])\n",
      "T3.set_pref([AA1, AA2, AA3])\n"
     ],
     "language": "python",
     "metadata": {},
     "outputs": [
      {
       "metadata": {},
       "output_type": "pyout",
       "prompt_number": 143,
       "text": [
        "True"
       ]
      }
     ],
     "prompt_number": 143
    },
    {
     "cell_type": "code",
     "collapsed": false,
     "input": [
      "#print find_cycle(AA1,[T1,T2,T3])\n",
      "print TTC([AA1,AA2,AA3],[T1,T2,T3])\n"
     ],
     "language": "python",
     "metadata": {},
     "outputs": [
      {
       "ename": "NameError",
       "evalue": "global name 'i' is not defined",
       "output_type": "pyerr",
       "traceback": [
        "\u001b[0;31m---------------------------------------------------------------------------\u001b[0m\n\u001b[0;31mNameError\u001b[0m                                 Traceback (most recent call last)",
        "\u001b[0;32m<ipython-input-144-ec0068309c75>\u001b[0m in \u001b[0;36m<module>\u001b[0;34m()\u001b[0m\n\u001b[1;32m      1\u001b[0m \u001b[0;31m#print find_cycle(AA1,[T1,T2,T3])\u001b[0m\u001b[0;34m\u001b[0m\u001b[0;34m\u001b[0m\u001b[0m\n\u001b[0;32m----> 2\u001b[0;31m \u001b[0;32mprint\u001b[0m \u001b[0mTTC\u001b[0m\u001b[0;34m(\u001b[0m\u001b[0;34m[\u001b[0m\u001b[0mAA1\u001b[0m\u001b[0;34m,\u001b[0m\u001b[0mAA2\u001b[0m\u001b[0;34m,\u001b[0m\u001b[0mAA3\u001b[0m\u001b[0;34m]\u001b[0m\u001b[0;34m,\u001b[0m\u001b[0;34m[\u001b[0m\u001b[0mT1\u001b[0m\u001b[0;34m,\u001b[0m\u001b[0mT2\u001b[0m\u001b[0;34m,\u001b[0m\u001b[0mT3\u001b[0m\u001b[0;34m]\u001b[0m\u001b[0;34m)\u001b[0m\u001b[0;34m\u001b[0m\u001b[0m\n\u001b[0m",
        "\u001b[0;32m<ipython-input-142-a41ae65f0325>\u001b[0m in \u001b[0;36mTTC\u001b[0;34m(agents, tasks)\u001b[0m\n\u001b[1;32m     82\u001b[0m \u001b[0;34m\u001b[0m\u001b[0m\n\u001b[1;32m     83\u001b[0m     \u001b[0massignments\u001b[0m \u001b[0;34m=\u001b[0m \u001b[0;34m[\u001b[0m\u001b[0;34m]\u001b[0m\u001b[0;34m\u001b[0m\u001b[0m\n\u001b[0;32m---> 84\u001b[0;31m     \u001b[0;32mwhile\u001b[0m \u001b[0;34m(\u001b[0m\u001b[0magents\u001b[0m \u001b[0;34m!=\u001b[0m \u001b[0;34m[\u001b[0m\u001b[0;34m]\u001b[0m \u001b[0;32mand\u001b[0m \u001b[0mi\u001b[0m \u001b[0;34m<\u001b[0m \u001b[0;36m20\u001b[0m\u001b[0;34m)\u001b[0m\u001b[0;34m:\u001b[0m\u001b[0;34m\u001b[0m\u001b[0m\n\u001b[0m\u001b[1;32m     85\u001b[0m         \u001b[0mcycle\u001b[0m \u001b[0;34m=\u001b[0m \u001b[0mfind_cycle\u001b[0m\u001b[0;34m(\u001b[0m\u001b[0magents\u001b[0m\u001b[0;34m[\u001b[0m\u001b[0;36m0\u001b[0m\u001b[0;34m]\u001b[0m\u001b[0;34m,\u001b[0m\u001b[0;34m[\u001b[0m\u001b[0;34m]\u001b[0m\u001b[0;34m)\u001b[0m\u001b[0;34m\u001b[0m\u001b[0m\n\u001b[1;32m     86\u001b[0m         \u001b[0massignments\u001b[0m \u001b[0;34m+=\u001b[0m \u001b[0mcycle\u001b[0m\u001b[0;34m\u001b[0m\u001b[0m\n",
        "\u001b[0;31mNameError\u001b[0m: global name 'i' is not defined"
       ]
      }
     ],
     "prompt_number": 144
    },
    {
     "cell_type": "code",
     "collapsed": false,
     "input": [],
     "language": "python",
     "metadata": {},
     "outputs": []
    }
   ],
   "metadata": {}
  }
 ]
}