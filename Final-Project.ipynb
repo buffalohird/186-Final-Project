{
 "metadata": {
  "name": ""
 },
 "nbformat": 3,
 "nbformat_minor": 0,
 "worksheets": [
  {
   "cells": [
    {
     "cell_type": "code",
     "collapsed": false,
     "input": [
      "class Agent():\n",
      "    \"\"\"\n",
      "    The Agent class. This is the base class inherited by the agent classes for \n",
      "    auctions and matching allocations.\n",
      "    \"\"\"\n",
      "    name = 'Unknown'\n",
      "    \n",
      "    def __init__(self, name='UnknownAgent'):\n",
      "        self.name = name\n",
      "        \n",
      "    def __str__(self):\n",
      "        return self.name\n",
      "    \n",
      "    def __repr__(self):\n",
      "        return self.name\n",
      "\n"
     ],
     "language": "python",
     "metadata": {},
     "outputs": [],
     "prompt_number": 69
    },
    {
     "cell_type": "code",
     "collapsed": false,
     "input": [
      "class Auction_agent(Agent):\n",
      "    \"\"\"\n",
      "    The agent class used in auctions\n",
      "    \"\"\"\n",
      "    \n",
      "    bids = []\n",
      "    name = 'UnknownAuctionAgent'\n",
      "    budget = 0\n",
      "    \n",
      "    def __init__(self, bids = [], name='UnknownAuctionAgent',budget = 10):\n",
      "        self.bids = bids\n",
      "        self.name = name\n",
      "        self.budget = budget\n",
      "        \n",
      "    def __str__(self):\n",
      "        return self.name\n",
      "    \n",
      "    def __repr__(self):\n",
      "        return self.name\n",
      "    \n",
      "    def get_bid(self, auction_id):\n",
      "        return self.bids[auction_id]\n",
      "\n",
      "\"\"\"\n",
      "Runs the an auction mechanism inspired by VCG on the inputs. Assumes only one item being auctioned \n",
      "off. Assumes the item is not desirable so now the winner pays nothing, all others pay the second \n",
      "price distributed evenly amongst bidders.\n",
      "\n",
      "params: \n",
      "    agents - a list of agent objects participating in the auction\n",
      "    auction_id - which auction currently being decided\n",
      "    \n",
      "returns: \n",
      "    tuple (winner of the auction, list of agents and their payments)\n",
      "\"\"\"\n",
      "def vcg(agents, auction_id):\n",
      "    # get all (agent,bid)s for this auction\n",
      "    agent_bids = map(lambda a: (a,a.get_bid(auction_id)),agents)\n",
      "    # sort them by their bid in decreasing order\n",
      "    agent_bids = sorted(agent_bids, key=lambda x: x[1], reverse=True)\n",
      "    \n",
      "    result = []\n",
      "    for i,(a,bid) in enumerate(agent_bids):\n",
      "        if i==0:\n",
      "            result.append((a,0))\n",
      "        else:\n",
      "            result.append((a,-float(agent_bids[1][1])/float(len(agent_bids)-1)))\n",
      "    return result\n"
     ],
     "language": "python",
     "metadata": {},
     "outputs": [],
     "prompt_number": 73
    },
    {
     "cell_type": "code",
     "collapsed": false,
     "input": [
      "a1 = agent(range(1,5), name='a1')\n",
      "a2 = agent(range(5,9), name='a2')\n",
      "a3 = agent(range(9,13), name='a3')\n",
      "a4 = agent(range(13,17), name='a4')\n",
      "As = [a1,a2,a3,a4]"
     ],
     "language": "python",
     "metadata": {},
     "outputs": [],
     "prompt_number": 63
    },
    {
     "cell_type": "code",
     "collapsed": false,
     "input": [
      "vcg(As, 2)"
     ],
     "language": "python",
     "metadata": {},
     "outputs": [
      {
       "metadata": {},
       "output_type": "pyout",
       "prompt_number": 64,
       "text": [
        "[(a4, 0),\n",
        " (a3, -3.6666666666666665),\n",
        " (a2, -3.6666666666666665),\n",
        " (a1, -3.6666666666666665)]"
       ]
      }
     ],
     "prompt_number": 64
    },
    {
     "cell_type": "code",
     "collapsed": false,
     "input": [
      "a1 = agent([-2], name='a1')\n",
      "a2 = agent([-5], name='a2')\n",
      "a3 = agent([-8], name='a3')\n",
      "a4 = agent([-10], name='a4')\n",
      "As1 = [a1,a2,a3,a4]"
     ],
     "language": "python",
     "metadata": {},
     "outputs": [],
     "prompt_number": 65
    },
    {
     "cell_type": "code",
     "collapsed": false,
     "input": [
      "vcg(As1,0)"
     ],
     "language": "python",
     "metadata": {},
     "outputs": [
      {
       "metadata": {},
       "output_type": "pyout",
       "prompt_number": 66,
       "text": [
        "[(a1, 0),\n",
        " (a2, 1.6666666666666667),\n",
        " (a3, 1.6666666666666667),\n",
        " (a4, 1.6666666666666667)]"
       ]
      }
     ],
     "prompt_number": 66
    },
    {
     "cell_type": "markdown",
     "metadata": {},
     "source": [
      "We see here that a1 gets paid 5. But by whom? How can we adjust this to actually work in our context?\n",
      "Ideas:\n",
      "\n",
      "    1- Everyone pays a1 5 (either each or collectively) \n",
      "    2- It's actually an all-pay auction and a1 gets paid 5, everyone else pays their value not to do it\n",
      "    3- idk....\n",
      "    \n",
      "    4- IMPLEMENTED: everyone besides winner pays second price divided by number of payers. "
     ]
    },
    {
     "cell_type": "code",
     "collapsed": false,
     "input": [],
     "language": "python",
     "metadata": {},
     "outputs": [],
     "prompt_number": 66
    },
    {
     "cell_type": "code",
     "collapsed": false,
     "input": [],
     "language": "python",
     "metadata": {},
     "outputs": [],
     "prompt_number": 66
    },
    {
     "cell_type": "code",
     "collapsed": false,
     "input": [
      "class Task():\n",
      "    \"\"\"\n",
      "    The task class used as the thing people don't want to do/have. Created for the \n",
      "    housing allocation TTC type algorithm.\n",
      "    \"\"\"\n",
      "    name = 'UnknownTask'\n",
      "    agent_pref = []\n",
      "    \n",
      "    def __init__(self, name='UnknownTask', agent_pref=[]):\n",
      "        self.name = name\n",
      "        self.agent_pref = agent_pref\n",
      "        \n",
      "    def __str__(self):\n",
      "        return self.name\n",
      "    \n",
      "    def __repr__(self):\n",
      "        return self.name\n",
      "    \n",
      "class Alloc_agent(Agent):\n",
      "    \"\"\"\n",
      "    The agent class used in the TTC housing allocation approach.\n",
      "    \"\"\"\n",
      "    \n",
      "    name = 'UnknownAllocAgent'\n",
      "    task_pref = []\n",
      "    \n",
      "    def __init__(self, name='UnknownAllocAgent', task_pref = []):\n",
      "        self.name = name\n",
      "        self.task_pref=task_pref\n",
      "        \n",
      "    def __str__(self):\n",
      "        return self.name\n",
      "    \n",
      "    def __repr__(self):\n",
      "        return self.name"
     ],
     "language": "python",
     "metadata": {},
     "outputs": [],
     "prompt_number": 72
    },
    {
     "cell_type": "code",
     "collapsed": false,
     "input": [],
     "language": "python",
     "metadata": {},
     "outputs": []
    }
   ],
   "metadata": {}
  }
 ]
}