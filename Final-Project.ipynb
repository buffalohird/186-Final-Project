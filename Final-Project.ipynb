{
 "metadata": {
  "name": ""
 },
 "nbformat": 3,
 "nbformat_minor": 0,
 "worksheets": [
  {
   "cells": [
    {
     "cell_type": "code",
     "collapsed": false,
     "input": [
      "\"\"\"\n",
      "The agent class used in auctions\n",
      "\"\"\"\n",
      "class agent():\n",
      "    bids = []\n",
      "    name = 'Unknown'\n",
      "    budget = 0\n",
      "    \n",
      "    def __init__(self, bids = [], name='Unknown',budget = 10):\n",
      "        self.bids = bids\n",
      "        self.name = name\n",
      "        self.budget = budget\n",
      "        \n",
      "    def __str__(self):\n",
      "        return self.name\n",
      "    \n",
      "    def __repr__(self):\n",
      "        return self.name\n",
      "    \n",
      "    def get_bid(self, auction_id):\n",
      "        return self.bids[auction_id]\n",
      "\n",
      "\"\"\"\n",
      "Runs the VCG auction mechanism on the inputs. Assumes only one item being auctioned \n",
      "off and thus only charges the winner of the auction.\n",
      "\n",
      "params: \n",
      "    agents - a list of agent objects participating in the auction\n",
      "    auction_id - which auction currently being decided\n",
      "    \n",
      "returns: \n",
      "    tuple (winner of the auction, list of agents and their payments)\n",
      "\"\"\"\n",
      "def vcg(agents, auction_id):\n",
      "    # get all (agent,bid)s for this auction\n",
      "    agent_bids = map(lambda a: (a,a.get_bid(auction_id)),agents)\n",
      "    # sort them by their bid in decreasing order\n",
      "    agent_bids = sorted(agent_bids, key=lambda x: x[1], reverse=True)\n",
      "    \n",
      "    result = []\n",
      "    for i,(a_bid) in enumerate(agent_bids):\n",
      "        if i==0:\n",
      "            result.append((a_bid[0],agent_bids[1][1]))\n",
      "        else:\n",
      "            result.append((a_bid[0],0))\n",
      "    return result\n"
     ],
     "language": "python",
     "metadata": {},
     "outputs": [],
     "prompt_number": 45
    },
    {
     "cell_type": "code",
     "collapsed": false,
     "input": [
      "a1 = agent(range(1,5), name='a1')\n",
      "a2 = agent(range(5,9), name='a2')\n",
      "a3 = agent(range(9,13), name='a3')\n",
      "a4 = agent(range(13,17), name='a4')\n",
      "As = [a1,a2,a3,a4]"
     ],
     "language": "python",
     "metadata": {},
     "outputs": [],
     "prompt_number": 46
    },
    {
     "cell_type": "code",
     "collapsed": false,
     "input": [
      "vcg(As, 2)"
     ],
     "language": "python",
     "metadata": {},
     "outputs": [
      {
       "metadata": {},
       "output_type": "pyout",
       "prompt_number": 47,
       "text": [
        "[(a4, 11), (a3, 0), (a2, 0), (a1, 0)]"
       ]
      }
     ],
     "prompt_number": 47
    },
    {
     "cell_type": "code",
     "collapsed": false,
     "input": [
      "a1 = agent([-2], name='a1')\n",
      "a2 = agent([-5], name='a2')\n",
      "a3 = agent([-8], name='a3')\n",
      "a4 = agent([-10], name='a4')\n",
      "As1 = [a1,a2,a3,a4]"
     ],
     "language": "python",
     "metadata": {},
     "outputs": [],
     "prompt_number": 50
    },
    {
     "cell_type": "code",
     "collapsed": false,
     "input": [
      "vcg(As1,0)"
     ],
     "language": "python",
     "metadata": {},
     "outputs": [
      {
       "metadata": {},
       "output_type": "pyout",
       "prompt_number": 51,
       "text": [
        "[(a1, -5), (a2, 0), (a3, 0), (a4, 0)]"
       ]
      }
     ],
     "prompt_number": 51
    },
    {
     "cell_type": "code",
     "collapsed": false,
     "input": [],
     "language": "python",
     "metadata": {},
     "outputs": []
    }
   ],
   "metadata": {}
  }
 ]
}